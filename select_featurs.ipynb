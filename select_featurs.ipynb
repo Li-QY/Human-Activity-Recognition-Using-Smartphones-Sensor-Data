{
 "cells": [
  {
   "cell_type": "code",
   "execution_count": null,
   "metadata": {},
   "outputs": [],
   "source": [
    "%matplotlib inline\n",
    "import matplotlib.pyplot as plt\n",
    "import seaborn as sns\n",
    "import numpy as np\n",
    "import pandas as pd\n",
    "import warnings\n",
    "\n",
    "from sklearn.decomposition import PCA\n",
    "from lightgbm import LGBMClassifier\n",
    "from sklearn.manifold import TSNE\n",
    "from sklearn.svm import SVC,LinearSVC\n",
    "from sklearn.tree import DecisionTreeClassifier\n",
    "from sklearn.neural_network import MLPClassifier\n",
    "from sklearn.linear_model import RidgeClassifier,SGDClassifier,PassiveAggressiveClassifier,LogisticRegression\n",
    "from sklearn.ensemble import GradientBoostingClassifier,RandomForestClassifier,StackingClassifier,ExtraTreesClassifier\n",
    "from sklearn.feature_selection import RFECV,chi2,SelectKBest, SelectPercentile\n",
    "from sklearn.gaussian_process import GaussianProcessClassifier\n",
    "from xgboost.sklearn import XGBClassifier\n",
    "from catboost import CatBoostClassifier\n",
    "from sklearn.ensemble import VotingClassifier\n",
    "from sklearn.neighbors import KNeighborsClassifier,RadiusNeighborsClassifier\n",
    "from sklearn.model_selection import train_test_split,cross_val_score,GridSearchCV,RandomizedSearchCV,StratifiedKFold\n",
    "from sklearn.metrics import accuracy_score, precision_score, recall_score, f1_score\n",
    "from sklearn.preprocessing import StandardScaler"
   ]
  },
  {
   "cell_type": "code",
   "execution_count": null,
   "metadata": {},
   "outputs": [],
   "source": [
    "root_dir= \"data/\"\n",
    "nsample = 3000\n",
    "features = list()\n",
    "with open('features.txt') as f:\n",
    "    features = [line.split()[1] for line in f.readlines()]\n",
    "print('No of Features: {}'.format(len(features)))"
   ]
  },
  {
   "cell_type": "code",
   "execution_count": null,
   "metadata": {},
   "outputs": [],
   "source": [
    "for i in range(1,100):\n",
    "    X_train = pd.read_csv(root_dir+\"X_train.csv\",header=None)\n",
    "    X_train.columns=features\n",
    "    # X_train['subject'] = pd.read_csv('subject_train.csv',header=None)\n",
    "\n",
    "    y_train = pd.read_csv(root_dir+\"y_train.csv\",names=['Activity'],header=None, squeeze=True)\n",
    "\n",
    "    X_test = pd.read_csv(root_dir+\"X_test.csv\",header=None)\n",
    "    X_test.columns=features\n",
    "\n",
    "    # standard_scaler = StandardScaler()\n",
    "    # standard_scaler.fit(X_train)\n",
    "    # X = standard_scaler.transform(X_train)\n",
    "    y = y_train\n",
    "\n",
    "\n",
    "    X_train,X_val, y_train,y_val= train_test_split(X_train, y_train, test_size=0.2, random_state=i)\n",
    "\n",
    "    y_train = np.array(y_train).flatten()\n",
    "    X_train = np.array(X_train)\n",
    "\n",
    "    y_val = np.array(y_val).flatten()\n",
    "    X_val = np.array(X_val)\n",
    "\n",
    "    X_test = np.array(X_test)\n",
    "\n",
    "    # X_test = standard_scaler.transform(X_test)\n",
    "\n",
    "\n",
    "    model = LGBMClassifier(max_depth=15)\n",
    "    model.fit(X_train, y_train)\n",
    "    yHatTrain = model.predict(X_train)\n",
    "    yHatVal = model.predict(X_val)\n",
    "    print('state: {}, Train: {:.6f}, Val: {:.6f}'.format(i, len((np.where(yHatTrain == y_train))[0])*1.0/X_train.shape[0],\n",
    "                        len((np.where(yHatVal == y_val))[0])*1.0/X_val.shape[0]))\n",
    "    yHatTest = model.predict(X_test)\n",
    "    np.savetxt(root_dir+'result_state'+ str(i) + '.txt', yHatTest)"
   ]
  }
 ],
 "metadata": {
  "interpreter": {
   "hash": "a625d9227b0bd01cea73df6020ed351d444907d01ad1d72ba8298ecbeeab06d6"
  },
  "kernelspec": {
   "display_name": "Python 3.7.5 64-bit ('env_cv': conda)",
   "language": "python",
   "name": "python3"
  },
  "language_info": {
   "codemirror_mode": {
    "name": "ipython",
    "version": 3
   },
   "file_extension": ".py",
   "mimetype": "text/x-python",
   "name": "python",
   "nbconvert_exporter": "python",
   "pygments_lexer": "ipython3",
   "version": "3.7.5"
  },
  "orig_nbformat": 4
 },
 "nbformat": 4,
 "nbformat_minor": 2
}
