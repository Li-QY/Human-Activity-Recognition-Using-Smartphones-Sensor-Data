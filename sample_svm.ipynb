{
  "cells": [
    {
      "cell_type": "code",
      "execution_count": null,
      "metadata": {
        "id": "RRTRSiPb467j"
      },
      "outputs": [],
      "source": [
        "import numpy as np\n",
        "import pandas as pd\n",
        "from sklearn import svm"
      ]
    },
    {
      "cell_type": "markdown",
      "metadata": {
        "id": "RSkUG2CA5IrL"
      },
      "source": [
        "Mount your Google Drive. In this notebook, we assume that 'report2' folder is placed directly under 'My Drive'."
      ]
    },
    {
      "cell_type": "code",
      "execution_count": null,
      "metadata": {
        "id": "56CkXhQu5Pe4"
      },
      "outputs": [],
      "source": [
        "# from google.colab import drive\n",
        "# drive.mount('/content/drive')"
      ]
    },
    {
      "cell_type": "code",
      "execution_count": null,
      "metadata": {
        "id": "BD2mdnv55iw4"
      },
      "outputs": [],
      "source": [
        "# !ls /content/drive/My\\ Drive  #You should be able to see 'report2' folder by running this."
      ]
    },
    {
      "cell_type": "markdown",
      "metadata": {
        "id": "rtU_Jfu15V7i"
      },
      "source": [
        "Load the data."
      ]
    },
    {
      "cell_type": "code",
      "execution_count": null,
      "metadata": {},
      "outputs": [],
      "source": [
        "root_dir= \"data/\"\n",
        "nsample = 3000"
      ]
    },
    {
      "cell_type": "code",
      "execution_count": null,
      "metadata": {
        "id": "tW4JeRSjROIk"
      },
      "outputs": [],
      "source": [
        "X_train = np.array(pd.read_csv(root_dir+\"X_train.csv\",header=None))\n",
        "y_train = np.array(pd.read_csv(root_dir+\"y_train.csv\",header=None)).flatten()\n",
        "X_test = np.array(pd.read_csv(root_dir+\"X_test.csv\",header=None))\n",
        "\n",
        "XTrain = X_train[:nsample,:] #use the first 3000 samples for training\n",
        "yTrain = y_train[:nsample]\n",
        "XVal = X_train[nsample:,:] #use the rests for validation\n",
        "yVal = y_train[nsample:]"
      ]
    },
    {
      "cell_type": "markdown",
      "metadata": {
        "id": "EdFTg-vvReLy"
      },
      "source": [
        "Train a linear SVM classifier"
      ]
    },
    {
      "cell_type": "code",
      "execution_count": null,
      "metadata": {
        "id": "Ul8CyWYNRbwT"
      },
      "outputs": [],
      "source": [
        "print(\"Training linear SVM classifier.\")\n",
        "clf = svm.LinearSVC()\n",
        "clf.fit(XTrain,yTrain)"
      ]
    },
    {
      "cell_type": "markdown",
      "metadata": {
        "id": "KXHDPbCNRsIr"
      },
      "source": [
        "Evaluate training end validation scores."
      ]
    },
    {
      "cell_type": "code",
      "execution_count": null,
      "metadata": {
        "id": "IDdidvDRRk43"
      },
      "outputs": [],
      "source": [
        "yHatTrain = clf.predict(XTrain)\n",
        "yHatVal = clf.predict(XVal)\n",
        "print(\"Training score \", len((np.where(yHatTrain == yTrain))[0])*1.0/XTrain.shape[0])\n",
        "print(\"Validation score \", len((np.where(yHatVal == yVal))[0])*1.0/XVal.shape[0])"
      ]
    },
    {
      "cell_type": "markdown",
      "metadata": {
        "id": "zCwiD3y5R4Je"
      },
      "source": [
        "Predict test data and save the result."
      ]
    },
    {
      "cell_type": "code",
      "execution_count": null,
      "metadata": {
        "id": "_J9v1rzg467n"
      },
      "outputs": [],
      "source": [
        "yHatTest = clf.predict(X_test)\n",
        "np.savetxt(root_dir+'result_svm.txt', yHatTest)"
      ]
    },
    {
      "cell_type": "code",
      "execution_count": null,
      "metadata": {
        "id": "jetzXfa64674"
      },
      "outputs": [],
      "source": []
    }
  ],
  "metadata": {
    "colab": {
      "collapsed_sections": [],
      "name": "sample_svm.ipynb",
      "provenance": []
    },
    "kernelspec": {
      "display_name": "Python 3",
      "language": "python",
      "name": "python3"
    },
    "language_info": {
      "codemirror_mode": {
        "name": "ipython",
        "version": 3
      },
      "file_extension": ".py",
      "mimetype": "text/x-python",
      "name": "python",
      "nbconvert_exporter": "python",
      "pygments_lexer": "ipython3",
      "version": "3.7.5"
    }
  },
  "nbformat": 4,
  "nbformat_minor": 0
}
